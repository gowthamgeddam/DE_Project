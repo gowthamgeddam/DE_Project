{
 "cells": [
  {
   "cell_type": "code",
   "execution_count": null,
   "id": "8c718309",
   "metadata": {},
   "outputs": [],
   "source": [
    "import pandas as pd\n",
    "\n",
    "df=pd.read_csv('../project_files/movies.csv')"
   ]
  },
  {
   "cell_type": "code",
   "execution_count": null,
   "id": "4bed94d2",
   "metadata": {},
   "outputs": [],
   "source": [
    "df.shape"
   ]
  },
  {
   "cell_type": "code",
   "execution_count": null,
   "id": "1ffb378f",
   "metadata": {},
   "outputs": [],
   "source": [
    "# Drop duplicate rows\n",
    "df.drop_duplicates(inplace=True)\n",
    "df.shape"
   ]
  },
  {
   "cell_type": "markdown",
   "id": "2c53d2e3",
   "metadata": {},
   "source": [
    "---"
   ]
  },
  {
   "cell_type": "markdown",
   "id": "5bef686a",
   "metadata": {},
   "source": [
    "### Movie Table\n",
    "`movie(id, original_title)`"
   ]
  },
  {
   "cell_type": "code",
   "execution_count": null,
   "id": "3a258e4b",
   "metadata": {},
   "outputs": [],
   "source": [
    "# id is primary key, drop rows with duplicate id\n",
    "df.drop_duplicates(subset=['id'], inplace=True)\n",
    "\n",
    "movies_table = df[['id','original_title']]\n",
    "movies_table"
   ]
  },
  {
   "cell_type": "code",
   "execution_count": null,
   "id": "1aa008d9",
   "metadata": {},
   "outputs": [],
   "source": [
    "\"\"\"\n",
    "INSERT INTO movie (id, original_title)\n",
    "VALUES (135397, \"Jurassic World\");\n",
    "\"\"\"\n",
    "# First empty the file if it already exist, else create an empty file\n",
    "file1 = open(\"../setup/movies_table.sql\", \"w\")\n",
    "file1.write(\"\")\n",
    "file1.close()\n",
    "\n",
    "file1 = open(\"../setup/movies_table.sql\", \"a\")  # append mode\n",
    "\n",
    "for ind in movies_table.index:\n",
    "    # original_title have single qoutes\n",
    "    original_title = str(movies_table['original_title'][ind])\n",
    "    original_title = original_title.replace(\"'\", \"''\")\n",
    "    file1.write(f\"INSERT INTO movie (id, original_title) VALUES ({movies_table['id'][ind]},\\'{original_title}\\');\\n\")\n",
    "file1.close()"
   ]
  },
  {
   "cell_type": "markdown",
   "id": "8e0d8598",
   "metadata": {},
   "source": [
    "### IMDb Details\n",
    "`imdb_details(id, imdb_id, popularity, vote_count, vote_average)`"
   ]
  },
  {
   "cell_type": "code",
   "execution_count": null,
   "id": "b4e8cc7b",
   "metadata": {},
   "outputs": [],
   "source": [
    "imdb_df = df.copy(deep=True)\n",
    "\n",
    "# id is primary key, drop rows with duplicate id\n",
    "imdb_df.drop_duplicates(['imdb_id'], inplace=True)\n",
    "\n",
    "imdb_table = imdb_df[['id', 'imdb_id', 'popularity', 'vote_count', 'vote_average']]\n",
    "\n",
    "imdb_table"
   ]
  },
  {
   "cell_type": "code",
   "execution_count": null,
   "id": "70c33f24",
   "metadata": {},
   "outputs": [],
   "source": [
    "df.imdb_id.unique().shape"
   ]
  },
  {
   "cell_type": "code",
   "execution_count": null,
   "id": "e53da1a8",
   "metadata": {},
   "outputs": [],
   "source": [
    "\"\"\"\n",
    "INSERT INTO imdb_details (id, imdb_id, popularity, vote_count, vote_average)\n",
    "VALUES (id, imdb_id, popularity, vote_count, vote_average);\n",
    "\"\"\"\n",
    "# First empty the file if it already exist, else create an empty file\n",
    "file1 = open(\"../setup/imdb_table.sql\", \"w\")\n",
    "file1.write(\"\")\n",
    "file1.close()\n",
    "\n",
    "file1 = open(\"../setup/imdb_table.sql\", \"a\")  # append mode\n",
    "\n",
    "for ind in imdb_table.index:\n",
    "    file1.write(f\"INSERT INTO imdb_details (id, imdb_id, popularity, vote_count, vote_average) VALUES ({imdb_table['id'][ind]}, '{imdb_table['imdb_id'][ind]}', {imdb_table['popularity'][ind]}, {imdb_table['vote_count'][ind]}, {imdb_table['vote_average'][ind]});\\n\")\n",
    "file1.close()"
   ]
  },
  {
   "cell_type": "markdown",
   "id": "3970712e",
   "metadata": {},
   "source": [
    "### Genre Details\n",
    "`movie_genre(id, genre)`"
   ]
  },
  {
   "cell_type": "code",
   "execution_count": null,
   "id": "75bee317",
   "metadata": {},
   "outputs": [],
   "source": [
    "genre_df = df.copy(deep=True)\n",
    "genre = genre_df[['id', 'genres']]\n",
    "genre.loc[:, 'genres'] = genre.genres.apply(lambda name: str(name).split('|'))\n",
    "genre.head(20)"
   ]
  },
  {
   "cell_type": "code",
   "execution_count": null,
   "id": "fe25f60f",
   "metadata": {},
   "outputs": [],
   "source": [
    "\"\"\"\n",
    "INSERT INTO movie_genre (id, genre)\n",
    "VALUES (id, genre);\n",
    "\"\"\"\n",
    "# First empty the file if it already exist, else create an empty file\n",
    "file1 = open(\"../setup/genre_table.sql\", \"w\")\n",
    "file1.write(\"\")\n",
    "file1.close()\n",
    "\n",
    "file1 = open(\"../setup/genre_table.sql\", \"a\")  # append mode\n",
    "\n",
    "for ind in genre.index:\n",
    "    for each_genre in genre['genres'][ind]:\n",
    "        if each_genre=='nan':\n",
    "            continue # escape nan values\n",
    "        file1.write(f\"INSERT INTO movie_genre (id, genre) VALUES ({genre['id'][ind]}, '{each_genre}');\\n\")\n",
    "file1.close()"
   ]
  },
  {
   "cell_type": "markdown",
   "id": "e5ea9875",
   "metadata": {},
   "source": [
    "### Release Details\n",
    "`release_details(id, release_date, release_year)`"
   ]
  },
  {
   "cell_type": "code",
   "execution_count": null,
   "id": "f7a4b17b",
   "metadata": {},
   "outputs": [],
   "source": [
    "release_df = df.copy(deep=True)\n",
    "release_details = release_df[['id', 'release_date', 'release_year']]\n",
    "\n",
    "for ind in release_details.index:\n",
    "    dd_mm_yy = release_details['release_date'][ind]\n",
    "    year =  release_details['release_year'][ind]\n",
    "    # f-string to turn one digit integer to two-digit > f\"{a:02}\"\n",
    "    dd = f\"{int(release_details['release_date'][ind].split('/')[1]):02}\"\n",
    "    mm = f\"{int(release_details['release_date'][ind].split('/')[0]):02}\"\n",
    "    yyyy_mm_dd = f\"{year}-{mm}-{dd}\"\n",
    "    # release_details['release_date'][ind] = yyyy_mm_dd\n",
    "    release_details.loc[ind, \"release_date\"] = yyyy_mm_dd\n",
    "\n",
    "#release_details.loc[:, 'release_date'] = release_details.release_date.apply(lambda x: x.replace('/', '-'))\n",
    "release_details"
   ]
  },
  {
   "cell_type": "code",
   "execution_count": null,
   "id": "f49bed46",
   "metadata": {},
   "outputs": [],
   "source": [
    "\"\"\"\n",
    "INSERT INTO release_details (id, release_date, release_year)\n",
    "VALUES (id, release_date, release_year);\n",
    "\"\"\"\n",
    "# First empty the file if it already exist, else create an empty file\n",
    "file1 = open(\"../setup/release_table.sql\", \"w\")\n",
    "file1.write(\"\")\n",
    "file1.close()\n",
    "\n",
    "file1 = open(\"../setup/release_table.sql\", \"a\")  # append mode\n",
    "\n",
    "for ind in release_details.index:\n",
    "    file1.write(f\"INSERT INTO release_details (id, release_date, release_year) VALUES ({release_details['id'][ind]}, \\'{release_details['release_date'][ind]}\\', {release_details['release_year'][ind]});\\n\")\n",
    "file1.close()"
   ]
  },
  {
   "cell_type": "markdown",
   "id": "9b276cfd",
   "metadata": {},
   "source": [
    "### Metadata\n",
    "`metadata(id, keywords, tagline, runtime, homepage, overview)`"
   ]
  },
  {
   "cell_type": "code",
   "execution_count": null,
   "id": "060642ac",
   "metadata": {},
   "outputs": [],
   "source": [
    "metadata_df = df.copy(deep=True)\n",
    "metadata = metadata_df[['id', 'keywords', 'tagline', 'runtime', 'homepage', 'overview']]\n",
    "metadata.loc[:, 'keywords'] = metadata.keywords.apply(lambda name: str(name).replace('|', ', '))\n",
    "metadata.loc[:, 'keywords'] = metadata.keywords.apply(lambda name: \"{\"+name+\"}\") #since keywords is charvar list\n",
    "\n",
    "# Dealing with single qoutes in text fields\n",
    "metadata.loc[:, 'keywords'] = metadata.keywords.apply(lambda text: str(text).replace(\"'\", \"''\"))\n",
    "metadata.loc[:, 'tagline'] = metadata.tagline.apply(lambda text: str(text).replace(\"'\", \"''\"))\n",
    "metadata.loc[:, 'homepage'] = metadata.homepage.apply(lambda text: str(text).replace(\"'\", \"''\"))\n",
    "metadata.loc[:, 'overview'] = metadata.overview.apply(lambda text: str(text).replace(\"'\", \"''\"))\n",
    "\n",
    "\n",
    "metadata.head()"
   ]
  },
  {
   "cell_type": "code",
   "execution_count": null,
   "id": "bed03082",
   "metadata": {},
   "outputs": [],
   "source": [
    "\"\"\"\n",
    "INSERT INTO metadata (id, keywords, tagline, runtime, homepage, overview)\n",
    "VALUES (id, keywords, tagline, runtime, homepage, overview);\n",
    "\"\"\"\n",
    "# First empty the file if it already exist, else create an empty file\n",
    "file1 = open(\"../setup/metadata_table.sql\", \"w\")\n",
    "file1.write(\"\")\n",
    "file1.close()\n",
    "\n",
    "file1 = open(\"../setup/metadata_table.sql\", \"a\")  # append mode\n",
    "\n",
    "for ind in metadata.index:\n",
    "    file1.write(f\"INSERT INTO metadata (id, keywords, tagline, runtime, homepage, overview) VALUES ({metadata['id'][ind]}, \\'{metadata['keywords'][ind]}\\', \\'{metadata['tagline'][ind]}\\', {metadata['runtime'][ind]}, \\'{metadata['homepage'][ind]}\\', \\'{metadata['overview'][ind]}\\');\\n\")\n",
    "file1.close()"
   ]
  },
  {
   "cell_type": "code",
   "execution_count": null,
   "id": "3f08e369",
   "metadata": {},
   "outputs": [],
   "source": [
    "metadata.shape"
   ]
  },
  {
   "cell_type": "markdown",
   "id": "c73b976f",
   "metadata": {},
   "source": [
    "### Finance Details\n",
    "`finances(id, budget, revenue, budget_adj, revenue_adj)`"
   ]
  },
  {
   "cell_type": "code",
   "execution_count": null,
   "id": "5a89f3d1",
   "metadata": {},
   "outputs": [],
   "source": [
    "# To deal with profit margin (revenue to budget ratio)\n",
    "# we replace budget 0 with 1, to avoid 'division-by-zero' error and still represent proper profit margin\n",
    "df.loc[:, 'budget'] = df.budget.apply(lambda x: x if x!=0 else 1)\n",
    "\n",
    "# And now the finances table\n",
    "finances = df[['id','budget', 'revenue', 'budget_adj', 'revenue_adj']]\n",
    "finances"
   ]
  },
  {
   "cell_type": "code",
   "execution_count": null,
   "id": "1d467af0",
   "metadata": {},
   "outputs": [],
   "source": [
    "\"\"\"\n",
    "INSERT INTO finances (id, budget, revenue, budget_adj, revenue_adj)\n",
    "VALUES (id, budget, revenue, budget_adj, revenue_adj);\n",
    "\"\"\"\n",
    "# First empty the file if it already exist, else create an empty file\n",
    "file1 = open(\"../setup/finances_table.sql\", \"w\")\n",
    "file1.write(\"\")\n",
    "file1.close()\n",
    "\n",
    "file1 = open(\"../setup/finances_table.sql\", \"a\")  # append mode\n",
    "\n",
    "for ind in finances.index:\n",
    "    file1.write(f\"INSERT INTO finances (id, budget, revenue, budget_adj, revenue_adj) VALUES ({finances['id'][ind]}, {finances['budget'][ind]}, {finances['revenue'][ind]}, {finances['budget_adj'][ind]}, {finances['revenue_adj'][ind]});\\n\")\n",
    "file1.close()"
   ]
  },
  {
   "cell_type": "markdown",
   "id": "0b33d121",
   "metadata": {},
   "source": [
    "### Movie-Director\n",
    "`directed(id, director_name)`"
   ]
  },
  {
   "cell_type": "code",
   "execution_count": null,
   "id": "f1fee5b3",
   "metadata": {},
   "outputs": [],
   "source": [
    "directed_df = df.copy(deep=True)\n",
    "directed = directed_df[['id','director']]\n",
    "print(directed.head(20))"
   ]
  },
  {
   "cell_type": "code",
   "execution_count": null,
   "id": "1e11cc93",
   "metadata": {},
   "outputs": [],
   "source": [
    "directed.loc[:, 'director'] = directed.director.apply(lambda name: str(name).split('|'))\n",
    "directed.head(20)"
   ]
  },
  {
   "cell_type": "code",
   "execution_count": null,
   "id": "6c3c9cac",
   "metadata": {},
   "outputs": [],
   "source": [
    "\"\"\"\n",
    "INSERT INTO directed (id, director_name)\n",
    "VALUES (id, director_name);\n",
    "\"\"\"\n",
    "# First empty the file if it already exist, else create an empty file\n",
    "file1 = open(\"../setup/director_table.sql\", \"w\")\n",
    "file1.write(\"\")\n",
    "file1.close()\n",
    "\n",
    "file1 = open(\"../setup/director_table.sql\", \"a\")  # append mode\n",
    "\n",
    "for ind in directed.index:\n",
    "    for each_director in directed['director'][ind]:\n",
    "        # There are single qoutes in director names, so we replace them with two consecutive single qoutes to escape\n",
    "        each_director = each_director.replace(\"'\", \"''\")\n",
    "        if each_director=='nan':\n",
    "            continue # removes nan values\n",
    "        file1.write(f\"INSERT INTO directed (id, director_name) VALUES ({directed['id'][ind]}, '{each_director}');\\n\")\n",
    "file1.close()"
   ]
  },
  {
   "cell_type": "markdown",
   "id": "a730fda6",
   "metadata": {},
   "source": [
    "### Casting Details\n",
    "`movie_cast(id, actor_name)`"
   ]
  },
  {
   "cell_type": "code",
   "execution_count": null,
   "id": "ff20ea2c",
   "metadata": {},
   "outputs": [],
   "source": [
    "casting_df = df.copy(deep=True)\n",
    "movie_cast = casting_df[['id','cast']]\n",
    "print(movie_cast.head(20))"
   ]
  },
  {
   "cell_type": "code",
   "execution_count": null,
   "id": "32c49e58",
   "metadata": {},
   "outputs": [],
   "source": [
    "movie_cast.loc[:, 'cast'] = movie_cast.cast.apply(lambda name: str(name).split('|'))\n",
    "movie_cast.head()"
   ]
  },
  {
   "cell_type": "code",
   "execution_count": null,
   "id": "a3a9bf28",
   "metadata": {},
   "outputs": [],
   "source": [
    "# There are duplicates in actors lists\n",
    "def remove_dups(x):\n",
    "  return list(dict.fromkeys(x))\n",
    "\n",
    "movie_cast.loc[:, 'cast'] = movie_cast.cast.apply(lambda actor_list: remove_dups(actor_list))"
   ]
  },
  {
   "cell_type": "code",
   "execution_count": null,
   "id": "45cabdde",
   "metadata": {},
   "outputs": [],
   "source": [
    "\"\"\"\n",
    "INSERT INTO cast (id, actor_name)\n",
    "VALUES (id, actor_name);\n",
    "\"\"\"\n",
    "# First empty the file if it already exist, else create an empty file\n",
    "file1 = open(\"../setup/actors_table.sql\", \"w\")\n",
    "file1.write(\"\")\n",
    "file1.close()\n",
    "\n",
    "file1 = open(\"../setup/actors_table.sql\", \"a\")  # append mode\n",
    "\n",
    "for ind in movie_cast.index:\n",
    "    for each_actor in movie_cast['cast'][ind]:\n",
    "        if each_actor=='nan':\n",
    "            continue # removes nan values\n",
    "        # There are single qoutes in actor names, so we replace them with two consecutive single qoutes to escape\n",
    "        each_actor = each_actor.replace(\"'\", \"''\")\n",
    "        file1.write(f\"INSERT INTO movie_cast (id, actor_name) VALUES ({movie_cast['id'][ind]}, '{each_actor}');\\n\")\n",
    "file1.close()"
   ]
  },
  {
   "cell_type": "markdown",
   "id": "5f343803",
   "metadata": {},
   "source": [
    "### Production Details\n",
    "`production(id, production_company)`"
   ]
  },
  {
   "cell_type": "code",
   "execution_count": null,
   "id": "fd901380",
   "metadata": {},
   "outputs": [],
   "source": [
    "production_df = df.copy(deep=True)\n",
    "production = production_df[['id','production_companies']]\n",
    "print(production.head(20))"
   ]
  },
  {
   "cell_type": "code",
   "execution_count": null,
   "id": "06f51de4",
   "metadata": {},
   "outputs": [],
   "source": [
    "production.loc[:, 'production_companies'] = production.production_companies.apply(lambda name: str(name).split('|'))\n",
    "production.head(20)"
   ]
  },
  {
   "cell_type": "code",
   "execution_count": null,
   "id": "2e30a7cc",
   "metadata": {},
   "outputs": [],
   "source": [
    "# There are duplicates in production companies lists\n",
    "production.loc[:, 'production_companies'] = production.production_companies.apply(lambda companies_list: remove_dups(companies_list))"
   ]
  },
  {
   "cell_type": "code",
   "execution_count": null,
   "id": "6011df41",
   "metadata": {},
   "outputs": [],
   "source": [
    "\"\"\"\n",
    "INSERT INTO production (id, production_company)\n",
    "VALUES (id, production_company);\n",
    "\"\"\"\n",
    "# First empty the file if it already exist, else create an empty file\n",
    "file1 = open(\"../setup/producers_table.sql\", \"w\")\n",
    "file1.write(\"\")\n",
    "file1.close()\n",
    "\n",
    "file1 = open(\"../setup/producers_table.sql\", \"a\")  # append mode\n",
    "\n",
    "for ind in production.index:\n",
    "    for each_company in production['production_companies'][ind]:\n",
    "        # There are single qoutes in company names, so we replace them with two consecutive single qoutes to escape\n",
    "        each_company = each_company.replace(\"'\", \"''\")\n",
    "        if each_company=='nan':\n",
    "            continue # remove nan values\n",
    "        file1.write(f\"INSERT INTO production (id, production_company) VALUES ({production['id'][ind]}, '{each_company}');\\n\")\n",
    "file1.close()"
   ]
  },
  {
   "cell_type": "code",
   "execution_count": null,
   "id": "eba8bff4",
   "metadata": {},
   "outputs": [],
   "source": []
  }
 ],
 "metadata": {
  "kernelspec": {
   "display_name": ".venv",
   "language": "python",
   "name": "python3"
  },
  "language_info": {
   "codemirror_mode": {
    "name": "ipython",
    "version": 3
   },
   "file_extension": ".py",
   "mimetype": "text/x-python",
   "name": "python",
   "nbconvert_exporter": "python",
   "pygments_lexer": "ipython3",
   "version": "3.12.6"
  }
 },
 "nbformat": 4,
 "nbformat_minor": 5
}
